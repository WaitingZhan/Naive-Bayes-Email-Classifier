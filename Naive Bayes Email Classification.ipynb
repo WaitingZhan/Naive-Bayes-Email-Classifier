{
 "cells": [
  {
   "cell_type": "code",
   "execution_count": 29,
   "metadata": {},
   "outputs": [],
   "source": [
    "\n",
    "from __future__ import print_function, division\n",
    "import nltk\n",
    "import os\n",
    "import random\n",
    "from collections import Counter\n",
    "from nltk import word_tokenize, WordNetLemmatizer\n",
    "from nltk.corpus import stopwords\n",
    "from nltk import NaiveBayesClassifier, classify\n",
    " \n",
    "stoplist = stopwords.words('english')\n",
    " \n",
    "def init_lists(folder):\n",
    "    a_list = []\n",
    "    file_list = os.listdir(folder)\n",
    "    for a_file in file_list:\n",
    "        f = open(folder + a_file, 'r',encoding='ISO-8859-1')\n",
    "        a_list.append(f.read())\n",
    "    f.close()\n",
    "    return a_list\n",
    " \n",
    "def preprocess(sentence):\n",
    "    lemmatizer = WordNetLemmatizer()\n",
    "    #return [lemmatizer.lemmatize(word.lower()) for word in word_tokenize(unicode(sentence, errors='ignore'))]\n",
    "    return [lemmatizer.lemmatize(word.lower()) for word in word_tokenize(sentence)]\n",
    " \n",
    "def get_features(text, setting):\n",
    "    if setting=='bow':\n",
    "        return {word: count for word, count in Counter(preprocess(text)).items() if not word in stoplist}\n",
    "    else:\n",
    "        return {word: True for word in preprocess(text) if not word in stoplist}\n",
    " \n"
   ]
  },
  {
   "cell_type": "code",
   "execution_count": null,
   "metadata": {},
   "outputs": [],
   "source": []
  },
  {
   "cell_type": "code",
   "execution_count": 30,
   "metadata": {},
   "outputs": [],
   "source": [
    "#import sys\n",
    "#if sys.version_info[0] >= 3:\n",
    "#   unicode = str\n"
   ]
  },
  {
   "cell_type": "code",
   "execution_count": 31,
   "metadata": {},
   "outputs": [],
   "source": [
    "def train(features, samples_proportion):\n",
    "    train_size = int(len(features) * samples_proportion)\n",
    "    # initialise the training and test sets\n",
    "    train_set, test_set = features[:train_size], features[train_size:]\n",
    "    print ('Training set size = ' + str(len(train_set)) + ' emails')\n",
    "    print ('Test set size = ' + str(len(test_set)) + ' emails')\n",
    "    # train the classifier\n",
    "    classifier = NaiveBayesClassifier.train(train_set)\n",
    "    return train_set, test_set, classifier\n",
    " \n",
    "def evaluate(train_set, test_set, classifier):\n",
    "    # check how the classifier performs on the training and test sets\n",
    "    print ('Accuracy on the training set = ' + str(classify.accuracy(classifier, train_set)))\n",
    "    print ('Accuracy of the test set = ' + str(classify.accuracy(classifier, test_set)))\n",
    "    # check which words are most informative for the classifier\n",
    "    classifier.show_most_informative_features(20)\n",
    " \n"
   ]
  },
  {
   "cell_type": "code",
   "execution_count": 32,
   "metadata": {},
   "outputs": [
    {
     "name": "stdout",
     "output_type": "stream",
     "text": [
      "Corpus size = 15525 emails\n",
      "Collected 15525 feature sets\n",
      "Training set size = 12420 emails\n",
      "Test set size = 3105 emails\n",
      "Accuracy on the training set = 0.7981481481481482\n",
      "Accuracy of the test set = 0.7716586151368761\n",
      "Most Informative Features\n",
      "                kaminski = True              ham : spam   =    425.7 : 1.0\n",
      "                 shirley = True              ham : spam   =    163.0 : 1.0\n",
      "                     hpl = True              ham : spam   =    144.3 : 1.0\n",
      "                   vince = True              ham : spam   =    139.2 : 1.0\n",
      "                  valium = True             spam : ham    =     73.2 : 1.0\n",
      "                 melissa = True              ham : spam   =     63.6 : 1.0\n",
      "                 actuals = True              ham : spam   =     61.7 : 1.0\n",
      "                     hou = True              ham : spam   =     61.2 : 1.0\n",
      "                   zimin = True              ham : spam   =     56.6 : 1.0\n",
      "                  vasant = True              ham : spam   =     56.0 : 1.0\n",
      "                     nom = True              ham : spam   =     54.4 : 1.0\n",
      "                     edu = True              ham : spam   =     54.4 : 1.0\n",
      "                    4176 = True             spam : ham    =     50.2 : 1.0\n",
      "                    href = True             spam : ham    =     50.2 : 1.0\n",
      "                     apc = True             spam : ham    =     48.6 : 1.0\n",
      "                   tanya = True              ham : spam   =     46.3 : 1.0\n",
      "                     ect = True              ham : spam   =     43.6 : 1.0\n",
      "                      td = True             spam : ham    =     42.0 : 1.0\n",
      "                     var = True              ham : spam   =     40.9 : 1.0\n",
      "              shanbhogue = True              ham : spam   =     40.4 : 1.0\n"
     ]
    }
   ],
   "source": [
    "if __name__ == '__main__':\n",
    "    # initialise the data\n",
    "    spam = init_lists('enron/enron1/spam/')\n",
    "    ham = init_lists('enron/enron1/ham/')\n",
    "    all_emails = [(email, 'spam') for email in spam]\n",
    "    all_emails += [(email, 'ham') for email in ham]\n",
    "    random.shuffle(all_emails)\n",
    "    print ('Corpus size = ' + str(len(all_emails)) + ' emails')\n",
    " \n",
    "    # extract the features\n",
    "    all_features = [(get_features(email, ''), label) for (email, label) in all_emails]\n",
    "    print ('Collected ' + str(len(all_features)) + ' feature sets')\n",
    " \n",
    "    # train the classifier\n",
    "    train_set, test_set, classifier = train(all_features, 0.8)\n",
    " \n",
    "    # evaluate its performance\n",
    "    evaluate(train_set, test_set, classifier)"
   ]
  },
  {
   "cell_type": "code",
   "execution_count": null,
   "metadata": {},
   "outputs": [],
   "source": [
    "#https://cambridgecoding.wordpress.com/2016/01/25/implementing-your-own-spam-filter/"
   ]
  },
  {
   "cell_type": "code",
   "execution_count": null,
   "metadata": {},
   "outputs": [],
   "source": []
  }
 ],
 "metadata": {
  "kernelspec": {
   "display_name": "Python 3",
   "language": "python",
   "name": "python3"
  },
  "language_info": {
   "codemirror_mode": {
    "name": "ipython",
    "version": 3
   },
   "file_extension": ".py",
   "mimetype": "text/x-python",
   "name": "python",
   "nbconvert_exporter": "python",
   "pygments_lexer": "ipython3",
   "version": "3.6.2"
  }
 },
 "nbformat": 4,
 "nbformat_minor": 2
}
